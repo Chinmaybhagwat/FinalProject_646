{
 "cells": [
  {
   "cell_type": "code",
   "execution_count": 11,
   "id": "601dfa30",
   "metadata": {},
   "outputs": [],
   "source": [
    "#importing essential libs\n",
    "import numpy as np \n",
    "import pandas as pd"
   ]
  },
  {
   "cell_type": "code",
   "execution_count": 2,
   "id": "688da6f1",
   "metadata": {},
   "outputs": [],
   "source": [
    "import os\n",
    "for dirname, _, filenames in os.walk('/kaggle/input/sign-language-mnist'):\n",
    "    for filename in filenames:\n",
    "        print(os.path.join(dirname, filename))\n"
   ]
  },
  {
   "cell_type": "code",
   "execution_count": 3,
   "id": "bfb6a8b0",
   "metadata": {},
   "outputs": [],
   "source": [
    "import pandas as pd\n",
    "import numpy as np\n",
    "import matplotlib.pyplot as plt\n",
    "from sklearn.preprocessing import LabelEncoder\n",
    "from sklearn.metrics import confusion_matrix, f1_score, accuracy_score\n",
    "from sklearn.svm import SVC\n"
   ]
  },
  {
   "cell_type": "code",
   "execution_count": 4,
   "id": "feab0790",
   "metadata": {},
   "outputs": [],
   "source": [
    "df = pd.read_csv('sign_mnist_train.csv')\n",
    "df_test = pd.read_csv('sign_mnist_test.csv')"
   ]
  },
  {
   "cell_type": "code",
   "execution_count": 5,
   "id": "01ce61c5",
   "metadata": {},
   "outputs": [],
   "source": [
    "x_train = df.iloc[0:27455, 1:785].values\n",
    "y_train = df.iloc[0:27455, 0].values\n"
   ]
  },
  {
   "cell_type": "code",
   "execution_count": 6,
   "id": "650e3065",
   "metadata": {},
   "outputs": [],
   "source": [
    "x_test = df_test.iloc[0:7172, 1:785].values\n",
    "y_test = df_test.iloc[0:7172,0].values"
   ]
  },
  {
   "cell_type": "code",
   "execution_count": 7,
   "id": "f62ff0b8",
   "metadata": {},
   "outputs": [],
   "source": [
    "label_enc = LabelEncoder()\n",
    "y_train = label_enc.fit_transform(y_train)\n",
    "y_test = label_enc.fit_transform(y_test)\n"
   ]
  },
  {
   "cell_type": "code",
   "execution_count": 8,
   "id": "5a7a4b27",
   "metadata": {},
   "outputs": [],
   "source": [
    "classifier = SVC(decision_function_shape='ovr')"
   ]
  },
  {
   "cell_type": "code",
   "execution_count": 9,
   "id": "7c3e5a33",
   "metadata": {},
   "outputs": [],
   "source": [
    "classifier.fit(x_train, y_train)\n",
    "y_pred = classifier.predict(x_test)"
   ]
  },
  {
   "cell_type": "code",
   "execution_count": 10,
   "id": "af662cd0",
   "metadata": {},
   "outputs": [
    {
     "name": "stdout",
     "output_type": "stream",
     "text": [
      "[[331   0   0   0   0   0   0   0   0   0   0   0   0   0   0   0   0   0\n",
      "    0   0   0   0   0   0]\n",
      " [  0 426   0   0   0   0   0   0   0   6   0   0   0   0   0   0   0   0\n",
      "    0   0   0   0   0   0]\n",
      " [  0   0 308   0   0   2   0   0   0   0   0   0   0   0   0   0   0   0\n",
      "    0   0   0   0   0   0]\n",
      " [  0   0   0 244   0   0   0   0   0   0   0   0   0   0   0   0   0   0\n",
      "    0   0   0   0   1   0]\n",
      " [  0   0   0   0 495   0   0   0   0   0   0   0   0   0   0   0   0   3\n",
      "    0   0   0   0   0   0]\n",
      " [  0   0  20   0   0 206   0   0   0   0  21   0   0   0   0   0   0   0\n",
      "    0   0   0   0   0   0]\n",
      " [  0   0   0   0   0   0 322   7   0   0   0   0   0   0   0   0   0   0\n",
      "   19   0   0   0   0   0]\n",
      " [  0   0   0   0   0   0  20 412   0   0   0   0   0   0   0   0   0   0\n",
      "    1   3   0   0   0   0]\n",
      " [  0   0   0   0   0   0   0   0 260   0   0   3   0   0   0   0   0   0\n",
      "    2   0   0   0   0  23]\n",
      " [  0   0   0   0   0   0   0   0  21 194   0   0   0   0   0   0  47   0\n",
      "    0  26   0  23   0  20]\n",
      " [  0   0   0   0   0   0   0   0   0   0 209   0   0   0   0   0   0   0\n",
      "    0   0   0   0   0   0]\n",
      " [  1   0   0   0   8   0   0   0   0   0   0 294  21   0   0   0   0  70\n",
      "    0   0   0   0   0   0]\n",
      " [ 22   0   6  10   0   5   0   0   0   0   0  40 198   2   0   0   0   0\n",
      "    8   0   0   0   0   0]\n",
      " [  0   0  18   0   0  21   4   0   0   0   0   0   0 203   0   0   0   0\n",
      "    0   0   0   0   0   0]\n",
      " [  0   0   0   0   0   0   0   0   0   0   0   0   0   0 347   0   0   0\n",
      "    0   0   0   0   0   0]\n",
      " [  0   0   0   0   0   0   0   0   0   0   0   2   0   0   0 162   0   0\n",
      "    0   0   0   0   0   0]\n",
      " [  0   0   0   0   0   0   0   0   0   0   0   0   0   0   0   0  78   0\n",
      "    0  45  21   0   0   0]\n",
      " [  0   0   0   0  21   0   0   0  25   0   0   7   0   0   0   0   0 193\n",
      "    0   0   0   0   0   0]\n",
      " [  0   0   0  12   0   6   0   0   0   0  10   0   0   0   0   0   3   0\n",
      "  173   0   0   0  44   0]\n",
      " [  0   0   0   0   0   0   0   0   0  44   0   0   0   0   0   0  43   0\n",
      "    0 167   8   4   0   0]\n",
      " [  0   0   0   0   0  20   0   0   0   1   0   0   0   0   0   0  40   0\n",
      "    0  33 203  49   0   0]\n",
      " [  0   0   0   0   0   0   0   0   0   0   0   0   0   0   0   0  29   0\n",
      "    0  20   0 157   0   0]\n",
      " [  0   0   0   0   0   5   0   0   0   0   0   0   0   0   0   0   0   4\n",
      "   13   0   0  41 204   0]\n",
      " [  0   0   0   0   0   0   0   0  18   0   0   0   0   0   0   0  41   2\n",
      "    0   0  19   0   0 252]]\n",
      "0.8418851087562744\n",
      "0.8418851087562744\n"
     ]
    }
   ],
   "source": [
    "\n",
    "acc = accuracy_score(y_test,y_pred)\n",
    "f1 = f1_score(y_test,y_pred,average='micro')\n",
    "cm = confusion_matrix(y_test,y_pred)\n",
    "\n",
    "print(cm)\n",
    "print(f1)\n",
    "print(acc)"
   ]
  },
  {
   "cell_type": "code",
   "execution_count": null,
   "id": "a7c8cbd1",
   "metadata": {},
   "outputs": [],
   "source": []
  }
 ],
 "metadata": {
  "kernelspec": {
   "display_name": "Python 3 (ipykernel)",
   "language": "python",
   "name": "python3"
  },
  "language_info": {
   "codemirror_mode": {
    "name": "ipython",
    "version": 3
   },
   "file_extension": ".py",
   "mimetype": "text/x-python",
   "name": "python",
   "nbconvert_exporter": "python",
   "pygments_lexer": "ipython3",
   "version": "3.9.7"
  }
 },
 "nbformat": 4,
 "nbformat_minor": 5
}
